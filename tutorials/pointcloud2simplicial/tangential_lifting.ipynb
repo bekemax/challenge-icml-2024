{
 "cells": [
  {
   "cell_type": "code",
   "execution_count": 1,
   "id": "0d89c203",
   "metadata": {},
   "outputs": [],
   "source": [
    "%load_ext autoreload\n",
    "%autoreload 2\n",
    "\n",
    "from modules.data.load.loaders import PointCloudLoader\n",
    "from modules.data.preprocess.preprocessor import PreProcessor\n",
    "from modules.utils.utils import (\n",
    "    describe_data,\n",
    "    load_transform_config,\n",
    ")"
   ]
  },
  {
   "cell_type": "code",
   "execution_count": 2,
   "id": "b950e5a7",
   "metadata": {},
   "outputs": [
    {
     "name": "stderr",
     "output_type": "stream",
     "text": [
      "Processing...\n",
      "Done!\n"
     ]
    }
   ],
   "source": [
    "loader = PointCloudLoader(\n",
    "    {\n",
    "        \"data_dir\": \"testrun-datadir\",\n",
    "    }\n",
    ")\n",
    "\n",
    "dataset = loader.load()"
   ]
  },
  {
   "cell_type": "code",
   "execution_count": 3,
   "id": "eb249eaa-77db-433b-a934-63d3e75f0e15",
   "metadata": {},
   "outputs": [
    {
     "name": "stdout",
     "output_type": "stream",
     "text": [
      "\n",
      "Transform configuration for pointcloud2simplicial/tangential_lifting:\n",
      "\n",
      "{'transform_type': 'lifting',\n",
      " 'transform_name': 'TangentialLifting',\n",
      " 'feature_lifting': 'ProjectionSum'}\n"
     ]
    }
   ],
   "source": [
    "transform_type = \"liftings\"\n",
    "# If the transform is a topological lifting, it should include both the type of the lifting and the identifier\n",
    "transform_id = \"pointcloud2simplicial/tangential_lifting\"\n",
    "\n",
    "# Read yaml file\n",
    "transform_config = {\n",
    "    \"lifting\": load_transform_config(transform_type, transform_id)\n",
    "    # other transforms (e.g. data manipulations, feature liftings) can be added here\n",
    "}"
   ]
  },
  {
   "cell_type": "code",
   "execution_count": null,
   "id": "75e6c321-850c-4852-8c29-fa9fc7cb524b",
   "metadata": {},
   "outputs": [],
   "source": [
    "PreProcessor(dataset, transform_config, loader.data_dir)"
   ]
  },
  {
   "cell_type": "code",
   "execution_count": null,
   "id": "bdd2fb9a-7f0c-4514-bd93-60b9c4dece96",
   "metadata": {},
   "outputs": [],
   "source": [
    "lifted_dataset = PreProcessor(dataset, transform_config, loader.data_dir)\n",
    "describe_data(lifted_dataset)"
   ]
  },
  {
   "cell_type": "code",
   "execution_count": null,
   "id": "70dda796-a28b-4fbf-a4db-81f5beeaf0f3",
   "metadata": {},
   "outputs": [],
   "source": [
    "describe_data(lifted_dataset)"
   ]
  }
 ],
 "metadata": {
  "kernelspec": {
   "display_name": "Python 3 (ipykernel)",
   "language": "python",
   "name": "python3"
  },
  "language_info": {
   "codemirror_mode": {
    "name": "ipython",
    "version": 3
   },
   "file_extension": ".py",
   "mimetype": "text/x-python",
   "name": "python",
   "nbconvert_exporter": "python",
   "pygments_lexer": "ipython3",
   "version": "3.11.3"
  }
 },
 "nbformat": 4,
 "nbformat_minor": 5
}
